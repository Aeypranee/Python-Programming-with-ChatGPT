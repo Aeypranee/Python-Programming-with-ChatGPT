{
 "cells": [
  {
   "cell_type": "code",
   "execution_count": 1,
   "metadata": {},
   "outputs": [],
   "source": [
    "money_on_my_mind = open('../../money_on_my_mind.txt', 'r', encoding='utf8')"
   ]
  },
  {
   "cell_type": "code",
   "execution_count": 2,
   "metadata": {},
   "outputs": [],
   "source": [
    "leave_your_lover = open('../leave_your_lover.txt', 'r', encoding='utf8')"
   ]
  },
  {
   "cell_type": "code",
   "execution_count": 3,
   "metadata": {},
   "outputs": [],
   "source": [
    "burning = open('burning.txt', 'r', encoding='utf8')"
   ]
  },
  {
   "cell_type": "code",
   "execution_count": 4,
   "metadata": {},
   "outputs": [],
   "source": [
    "stay_with_me = open('A3/pray.txt', 'r', encoding='utf8')"
   ]
  },
  {
   "cell_type": "code",
   "execution_count": 5,
   "metadata": {},
   "outputs": [],
   "source": [
    "lay_me_down = open('A3/A4/A5/lay_me_down.txt', 'r', encoding='utf8')"
   ]
  },
  {
   "cell_type": "code",
   "execution_count": 39,
   "metadata": {},
   "outputs": [
    {
     "name": "stdout",
     "output_type": "stream",
     "text": [
      "[\"i'm\", 'young', 'and', \"i'm\", 'foolish,', \"i've\", 'made', 'bad', 'decisions', 'i', 'block', 'out', 'the', 'news,', 'turn', 'my', 'back', 'on', 'religion', \"don't\", 'have', 'no', 'degree,', \"i'm\", 'somewhat', 'naive', \"i've\", 'made', 'it', 'this', 'far', 'on', 'my', 'own', 'but', 'lately,', 'that', 'shit', \"ain't\", 'been', \"gettin'\", 'me', 'higher', 'i', 'lift', 'up', 'my', 'head', 'and', 'the', 'world', 'is', 'on', 'fire', \"there's\", 'dread', 'in', 'my', 'heart', 'and', 'fear', 'in', 'my', 'bones', 'and', 'i', 'just', \"don't\", 'know', 'what', 'to', 'say', 'maybe', \"i'll\", 'pray,', 'pray', 'maybe', \"i'll\", 'pray', 'i', 'have', 'never', 'believed', 'in', 'you,', 'no', 'but', \"i'm\", 'gonna', 'pray', 'you', \"won't\", 'find', 'me', 'in', 'church', '(no)', 'reading', 'the', 'bible', '(no)', 'i', 'am', 'still', 'here', 'and', \"i'm\", 'still', 'your', 'disciple', \"i'm\", 'down', 'on', 'my', 'knees,', \"i'm\", \"beggin'\", 'you,', 'please', \"i'm\", 'broken,', 'alone,', 'and', 'afraid', \"i'm\", 'not', 'a', 'saint,', \"i'm\", 'more', 'of', 'a', 'sinner', 'i', \"don't\", 'wanna', 'lose,', 'but', 'i', 'fear', 'for', 'the', 'winners', 'when', 'i', 'try', 'to', 'explain,', 'the', 'words', 'run', 'away', \"that's\", 'why', 'i', 'am', 'stood', 'here', 'today', 'and', \"i'm\", 'gonna', 'pray', '(lord),', 'pray', '(lord),', 'maybe', \"i'll\", 'pray', 'pray', 'for', 'a', 'glimmer', 'of', 'hope', 'maybe', \"i'll\", 'pray', '(lord),', 'pray', '(lord),', 'maybe', \"i'll\", 'pray', \"i've\", 'never', 'believed', 'in', 'you,', 'no,', 'but', \"i'm\", 'gonna', \"won't\", 'you', 'call', 'me?', 'can', 'we', 'have', 'a', 'one-to-one,', 'please?', \"let's\", 'talk', 'about', 'freedom', 'everyone', 'prays', 'in', 'the', 'end', 'everyone', 'prays', 'in', 'the', 'end', \"won't\", 'you', 'call', 'me?', 'can', 'we', 'have', 'a', 'one-to-one,', 'please?', \"let's\", 'talk', 'about', 'freedom', 'everyone', 'prays', 'in', 'the', 'end', 'everyone', 'prays', 'in', 'the', 'end', 'oh,', 'and', \"i'm\", 'gonna', 'pray,', \"i'm\", 'gonna', 'pray,', \"i'm\", 'gonna', 'pray', 'pray', 'for', 'a', 'glimmer', 'of', 'hope', 'maybe', \"i'll\", 'pray,', 'pray,', 'maybe', \"i'll\", 'pray', \"i've\", 'never', 'believed', 'in', 'you,', 'no,', 'but', \"i'm\", 'gonna', 'pray']\n",
      "\n",
      "\n",
      "{'hope', 'you', 'prays', 'block', 'this', 'afraid', 'religion', 'broken,', 'believed', 'lose,', 'world', \"ain't\", 'alone,', 'in', 'of', 'foolish,', 'is', 'dread', 'am', 'call', 'try', 'have', 'lately,', \"let's\", 'you,', 'but', 'we', 'knees,', 'naive', 'not', 'it', 'somewhat', '(lord),', 'winners', 'know', 'down', 'sinner', 'higher', 'maybe', 'please', 'disciple', 'say', 'today', 'words', 'can', 'reading', 'been', '(no)', 'to', 'decisions', 'everyone', \"there's\", 'on', 'stood', 'church', 'fire', 'your', 'freedom', 'me', 'me?', \"i'll\", 'run', 'a', \"that's\", 'more', 'never', 'away', 'fear', 'up', 'bible', \"gettin'\", 'back', 'gonna', 'oh,', 'glimmer', 'bad', \"won't\", 'one-to-one,', 'talk', 'turn', 'i', 'saint,', 'that', 'young', 'my', 'news,', 'no,', 'what', 'degree,', 'just', 'when', 'end', 'wanna', 'here', 'the', 'and', 'pray,', 'out', 'for', 'pray', 'head', 'find', 'own', 'no', 'about', \"i've\", \"beggin'\", \"don't\", 'why', 'explain,', 'please?', 'shit', 'made', 'bones', 'lift', 'heart', \"i'm\", 'far', 'still'}\n",
      "\n",
      "\n",
      "119\n",
      "\n",
      "\n",
      "{'hope': 2, 'you': 3, 'prays': 4, 'block': 1, 'this': 1, 'afraid': 1, 'religion': 1, 'broken,': 1, 'believed': 3, 'lose,': 1, 'world': 1, \"ain't\": 1, 'alone,': 1, 'in': 10, 'of': 3, 'foolish,': 1, 'is': 1, 'dread': 1, 'am': 2, 'call': 2, 'try': 1, 'have': 4, 'lately,': 1, \"let's\": 2, 'you,': 4, 'but': 5, 'we': 2, 'knees,': 1, 'naive': 1, 'not': 1, 'it': 1, 'somewhat': 1, '(lord),': 4, 'winners': 1, 'know': 1, 'down': 1, 'sinner': 1, 'higher': 1, 'maybe': 7, 'please': 1, 'disciple': 1, 'say': 1, 'today': 1, 'words': 1, 'can': 2, 'reading': 1, 'been': 1, '(no)': 2, 'to': 2, 'decisions': 1, 'everyone': 4, \"there's\": 1, 'on': 4, 'stood': 1, 'church': 1, 'fire': 1, 'your': 1, 'freedom': 2, 'me': 2, 'me?': 2, \"i'll\": 7, 'run': 1, 'a': 6, \"that's\": 1, 'more': 1, 'never': 3, 'away': 1, 'fear': 2, 'up': 1, 'bible': 1, \"gettin'\": 1, 'back': 1, 'gonna': 7, 'oh,': 1, 'glimmer': 2, 'bad': 1, \"won't\": 3, 'one-to-one,': 2, 'talk': 2, 'turn': 1, 'i': 9, 'saint,': 1, 'that': 1, 'young': 1, 'my': 6, 'news,': 1, 'no,': 2, 'what': 1, 'degree,': 1, 'just': 1, 'when': 1, 'end': 4, 'wanna': 1, 'here': 2, 'the': 9, 'and': 8, 'pray,': 5, 'out': 1, 'for': 3, 'pray': 14, 'head': 1, 'find': 1, 'own': 1, 'no': 2, 'about': 2, \"i've\": 4, \"beggin'\": 1, \"don't\": 3, 'why': 1, 'explain,': 1, 'please?': 2, 'shit': 1, 'made': 2, 'bones': 1, 'lift': 1, 'heart': 1, \"i'm\": 16, 'far': 1, 'still': 2}\n"
     ]
    }
   ],
   "source": [
    "burning = open('A3/pray.txt', 'r', encoding='utf8')\n",
    "total_word = []\n",
    "for line in burning:\n",
    "    all_words = line.split(' ')\n",
    "    all_words[-1] = all_words[-1][:-1]\n",
    "    for word in all_words:\n",
    "        lower_word = word.lower()\n",
    "        total_word.append(lower_word)\n",
    "    # print(all_words)\n",
    "burning.close()\n",
    "print(total_word)\n",
    "print()\n",
    "print()\n",
    "set_total_word = set(total_word)\n",
    "print(set_total_word)\n",
    "print()\n",
    "print()\n",
    "print(len(set_total_word))\n",
    "dict_music = {}\n",
    "for unique_w in set_total_word:\n",
    "    value = total_word.count(unique_w)\n",
    "    dict_music[unique_w] = value\n",
    "print()\n",
    "print()\n",
    "print(dict_music)"
   ]
  },
  {
   "cell_type": "code",
   "execution_count": 40,
   "metadata": {},
   "outputs": [
    {
     "data": {
      "text/plain": [
       "1"
      ]
     },
     "execution_count": 40,
     "metadata": {},
     "output_type": "execute_result"
    }
   ],
   "source": [
    "total_word.count('it')"
   ]
  },
  {
   "cell_type": "code",
   "execution_count": 41,
   "metadata": {},
   "outputs": [],
   "source": [
    "import operator"
   ]
  },
  {
   "cell_type": "code",
   "execution_count": 42,
   "metadata": {},
   "outputs": [],
   "source": [
    "sorted_x = sorted(dict_music.items(), key=operator.itemgetter(1), reverse=True)"
   ]
  },
  {
   "cell_type": "code",
   "execution_count": 43,
   "metadata": {},
   "outputs": [
    {
     "data": {
      "text/plain": [
       "[(\"i'm\", 16),\n",
       " ('pray', 14),\n",
       " ('in', 10),\n",
       " ('i', 9),\n",
       " ('the', 9),\n",
       " ('and', 8),\n",
       " ('maybe', 7),\n",
       " (\"i'll\", 7),\n",
       " ('gonna', 7),\n",
       " ('a', 6),\n",
       " ('my', 6),\n",
       " ('but', 5),\n",
       " ('pray,', 5),\n",
       " ('prays', 4),\n",
       " ('have', 4),\n",
       " ('you,', 4),\n",
       " ('(lord),', 4),\n",
       " ('everyone', 4),\n",
       " ('on', 4),\n",
       " ('end', 4),\n",
       " (\"i've\", 4),\n",
       " ('you', 3),\n",
       " ('believed', 3),\n",
       " ('of', 3),\n",
       " ('never', 3),\n",
       " (\"won't\", 3),\n",
       " ('for', 3),\n",
       " (\"don't\", 3),\n",
       " ('hope', 2),\n",
       " ('am', 2),\n",
       " ('call', 2),\n",
       " (\"let's\", 2),\n",
       " ('we', 2),\n",
       " ('can', 2),\n",
       " ('(no)', 2),\n",
       " ('to', 2),\n",
       " ('freedom', 2),\n",
       " ('me', 2),\n",
       " ('me?', 2),\n",
       " ('fear', 2),\n",
       " ('glimmer', 2),\n",
       " ('one-to-one,', 2),\n",
       " ('talk', 2),\n",
       " ('no,', 2),\n",
       " ('here', 2),\n",
       " ('no', 2),\n",
       " ('about', 2),\n",
       " ('please?', 2),\n",
       " ('made', 2),\n",
       " ('still', 2),\n",
       " ('block', 1),\n",
       " ('this', 1),\n",
       " ('afraid', 1),\n",
       " ('religion', 1),\n",
       " ('broken,', 1),\n",
       " ('lose,', 1),\n",
       " ('world', 1),\n",
       " (\"ain't\", 1),\n",
       " ('alone,', 1),\n",
       " ('foolish,', 1),\n",
       " ('is', 1),\n",
       " ('dread', 1),\n",
       " ('try', 1),\n",
       " ('lately,', 1),\n",
       " ('knees,', 1),\n",
       " ('naive', 1),\n",
       " ('not', 1),\n",
       " ('it', 1),\n",
       " ('somewhat', 1),\n",
       " ('winners', 1),\n",
       " ('know', 1),\n",
       " ('down', 1),\n",
       " ('sinner', 1),\n",
       " ('higher', 1),\n",
       " ('please', 1),\n",
       " ('disciple', 1),\n",
       " ('say', 1),\n",
       " ('today', 1),\n",
       " ('words', 1),\n",
       " ('reading', 1),\n",
       " ('been', 1),\n",
       " ('decisions', 1),\n",
       " (\"there's\", 1),\n",
       " ('stood', 1),\n",
       " ('church', 1),\n",
       " ('fire', 1),\n",
       " ('your', 1),\n",
       " ('run', 1),\n",
       " (\"that's\", 1),\n",
       " ('more', 1),\n",
       " ('away', 1),\n",
       " ('up', 1),\n",
       " ('bible', 1),\n",
       " (\"gettin'\", 1),\n",
       " ('back', 1),\n",
       " ('oh,', 1),\n",
       " ('bad', 1),\n",
       " ('turn', 1),\n",
       " ('saint,', 1),\n",
       " ('that', 1),\n",
       " ('young', 1),\n",
       " ('news,', 1),\n",
       " ('what', 1),\n",
       " ('degree,', 1),\n",
       " ('just', 1),\n",
       " ('when', 1),\n",
       " ('wanna', 1),\n",
       " ('out', 1),\n",
       " ('head', 1),\n",
       " ('find', 1),\n",
       " ('own', 1),\n",
       " (\"beggin'\", 1),\n",
       " ('why', 1),\n",
       " ('explain,', 1),\n",
       " ('shit', 1),\n",
       " ('bones', 1),\n",
       " ('lift', 1),\n",
       " ('heart', 1),\n",
       " ('far', 1)]"
      ]
     },
     "execution_count": 43,
     "metadata": {},
     "output_type": "execute_result"
    }
   ],
   "source": [
    "sorted_x"
   ]
  },
  {
   "cell_type": "code",
   "execution_count": 44,
   "metadata": {},
   "outputs": [],
   "source": [
    "value = []\n",
    "for x in dict_music:\n",
    "    value.append(dict_music[x])"
   ]
  },
  {
   "cell_type": "code",
   "execution_count": 45,
   "metadata": {},
   "outputs": [],
   "source": [
    "import matplotlib.pyplot as plt"
   ]
  },
  {
   "cell_type": "code",
   "execution_count": 46,
   "metadata": {},
   "outputs": [
    {
     "data": {
      "text/plain": [
       "(array([91.,  7., 10.,  2.,  4.,  2.,  1.,  0.,  1.,  1.]),\n",
       " array([ 1. ,  2.5,  4. ,  5.5,  7. ,  8.5, 10. , 11.5, 13. , 14.5, 16. ]),\n",
       " <a list of 10 Patch objects>)"
      ]
     },
     "execution_count": 46,
     "metadata": {},
     "output_type": "execute_result"
    },
    {
     "data": {
      "image/png": "[encoded data removed]",
      "text/plain": [
       "<Figure size 432x288 with 1 Axes>"
      ]
     },
     "metadata": {
      "needs_background": "light"
     },
     "output_type": "display_data"
    }
   ],
   "source": [
    "plt.hist(value)"
   ]
  },
  {
   "cell_type": "code",
   "execution_count": 35,
   "metadata": {},
   "outputs": [
    {
     "data": {
      "text/plain": [
       "[3,\n",
       " 1,\n",
       " 2,\n",
       " 1,\n",
       " 9,\n",
       " 3,\n",
       " 2,\n",
       " 2,\n",
       " 2,\n",
       " 3,\n",
       " 2,\n",
       " 1,\n",
       " 1,\n",
       " 2,\n",
       " 1,\n",
       " 1,\n",
       " 1,\n",
       " 1,\n",
       " 2,\n",
       " 1,\n",
       " 1,\n",
       " 1,\n",
       " 1,\n",
       " 1,\n",
       " 2,\n",
       " 3,\n",
       " 1,\n",
       " 1,\n",
       " 12,\n",
       " 7,\n",
       " 2,\n",
       " 1,\n",
       " 5,\n",
       " 1,\n",
       " 3,\n",
       " 2,\n",
       " 2,\n",
       " 1,\n",
       " 1,\n",
       " 1,\n",
       " 5,\n",
       " 1,\n",
       " 1,\n",
       " 3,\n",
       " 5,\n",
       " 1,\n",
       " 3,\n",
       " 6,\n",
       " 2,\n",
       " 3,\n",
       " 2,\n",
       " 2,\n",
       " 1,\n",
       " 2,\n",
       " 1,\n",
       " 6,\n",
       " 3,\n",
       " 5,\n",
       " 3,\n",
       " 5,\n",
       " 1,\n",
       " 1,\n",
       " 1,\n",
       " 1,\n",
       " 1,\n",
       " 8,\n",
       " 1,\n",
       " 1,\n",
       " 11,\n",
       " 1,\n",
       " 2,\n",
       " 2,\n",
       " 2,\n",
       " 3,\n",
       " 2,\n",
       " 6,\n",
       " 4,\n",
       " 2,\n",
       " 1,\n",
       " 2,\n",
       " 3,\n",
       " 2,\n",
       " 2,\n",
       " 1,\n",
       " 12,\n",
       " 1,\n",
       " 3,\n",
       " 1,\n",
       " 2,\n",
       " 5,\n",
       " 2,\n",
       " 2,\n",
       " 1]"
      ]
     },
     "execution_count": 35,
     "metadata": {},
     "output_type": "execute_result"
    }
   ],
   "source": [
    "value"
   ]
  },
  {
   "cell_type": "code",
   "execution_count": null,
   "metadata": {},
   "outputs": [],
   "source": []
  },
  {
   "cell_type": "code",
   "execution_count": null,
   "metadata": {},
   "outputs": [],
   "source": []
  },
  {
   "cell_type": "code",
   "execution_count": 23,
   "metadata": {},
   "outputs": [
    {
     "name": "stdout",
     "output_type": "stream",
     "text": [
      "W,h,e,n,I,s,i,g,n,e,d,m,y,d,e,a,l,I,f,e,l,t,p,r,e,s,s,u,r,e,D,o,n,',t,w,a,n,t,t,o,s,e,e,t,h,e,n,u,m,b,e,r,s,I,w,a,n,t,t,o,s,e,e,h,e,a,v,e,n,Y,o,u,s,a,y,c,o,u,l,d,y,o,u,w,r,i,t,e,a,s,o,n,g,f,o,r,m,e,I,s,a,i,d,I,’,m,s,o,r,r,y,I,w,o,n,’,t,d,o,t,h,a,t,h,a,p,p,i,l,y,W,h,e,n,I,g,o,h,o,m,e,I,t,e,n,d,t,o,c,l,o,s,e,t,h,e,d,o,o,r,I,n,e,v,e,r,w,a,n,t,e,d,m,o,r,e,S,o,s,i,n,g,w,i,t,h,m,e,C,a,n,',t,y,o,u,s,e,e,I,d,o,n,',t,h,a,v,e,M,o,n,e,y,o,n,m,y,m,i,n,d,M,o,n,e,y,o,n,m,y,m,i,n,d,I,d,o,i,t,f,o,r,,,I,d,o,i,t,f,o,r,t,h,e,l,o,v,e,I,d,o,n,',t,h,a,v,e,M,o,n,e,y,o,n,m,y,m,i,n,d,M,o,n,e,y,o,n,m,y,m,i,n,d,I,d,o,i,t,f,o,r,,,I,d,o,i,t,f,o,r,t,h,e,l,o,v,e,I,d,o,i,t,f,o,r,t,h,e,l,o,v,e,I,d,o,i,t,f,o,r,t,h,e,l,o,v,e,P,l,e,a,s,e,d,o,n,',t,g,e,t,m,e,w,r,o,n,g,I,w,a,n,n,a,k,e,e,p,i,t,m,o,v,i,n,g,I,k,n,o,w,w,h,a,t,t,h,a,t,r,e,q,u,i,r,e,s,I,',m,n,o,t,f,o,o,l,i,s,h,P,l,e,a,s,e,c,a,n,y,o,u,m,a,k,e,t,h,i,s,w,o,r,k,f,o,r,m,e,',C,a,u,s,e,I,',m,n,o,t,a,p,u,p,p,e,t,I,w,i,l,l,w,o,r,k,a,g,a,i,n,s,t,y,o,u,r,s,t,r,i,n,g,s,W,h,e,n,I,g,o,h,o,m,e,I,t,e,n,d,t,o,c,l,o,s,e,t,h,e,d,o,o,r,I,n,e,v,e,r,w,a,n,t,e,d,m,o,r,e,S,o,s,i,n,g,w,i,t,h,m,e,C,a,n,',t,y,o,u,s,e,e,I,d,o,n,',t,h,a,v,e,M,o,n,e,y,o,n,m,y,m,i,n,d,M,o,n,e,y,o,n,m,y,m,i,n,d,I,d,o,i,t,f,o,r,,,I,d,o,i,t,f,o,r,t,h,e,l,o,v,e,I,d,o,n,',t,h,a,v,e,M,o,n,e,y,o,n,m,y,m,i,n,d,M,o,n,e,y,o,n,m,y,m,i,n,d,I,d,o,i,t,f,o,r,,,I,d,o,i,t,f,o,r,t,h,e,l,o,v,e,I,d,o,i,t,f,o,r,t,h,e,l,o,v,e,W,h,e,n,t,h,e,s,u,n,w,i,l,l,s,e,t,D,o,n,',t,y,o,u,f,r,e,t,N,o,I,h,a,v,e,n,o,m,o,n,e,y,o,n,m,y,m,i,n,d,N,o,m,o,n,e,y,o,n,m,y,m,i,n,d,N,o,m,o,n,e,y,o,n,m,y,m,i,n,d,N,o,I,h,a,v,e,n,o,m,o,n,e,y,o,n,m,y,m,i,n,d,W,h,e,n,t,h,e,s,u,n,w,i,l,l,s,e,t,D,o,n,',t,y,o,u,f,r,e,t,N,o,I,h,a,v,e,n,o,m,o,n,e,y,o,n,m,y,m,i,n,d,N,o,m,o,n,e,y,o,n,m,y,m,i,n,d,N,o,m,o,n,e,y,o,n,m,y,m,i,n,d,N,o,I,h,a,v,e,n,o,m,o,n,e,y,o,n,m,y,m,i,n,d,M,o,n,e,y,o,n,m,y,m,i,n,d,M,o,n,e,y,o,n,m,y,m,i,n,d,I,d,o,i,t,f,o,r,,,I,d,o,i,t,f,o,r,t,h,e,l,o,v,e,I,d,o,n,',t,h,a,v,e,M,o,n,e,y,o,n,m,y,m,i,n,d,M,o,n,e,y,o,n,m,y,m,i,n,d,I,d,o,i,t,f,o,r,,,I,d,o,i,t,f,o,r,t,h,e,l,o,v,e,I,d,o,i,t,f,o,r,t,h,e,l,o,v,e,I,d,o,i,t,f,o,r,t,h,e,l,o,v,e,\n",
      "\n",
      "\n",
      "count = 1048\n"
     ]
    }
   ],
   "source": [
    "# money_on_my_mind = open('../../money_on_my_mind.txt')\n",
    "# count1 = 0\n",
    "# for line1 in money_on_my_mind:\n",
    "#     for x in line1[:-1]:\n",
    "#         if x != ' ':\n",
    "#             print(x, end=',')\n",
    "#             count1 = count1 + 1\n",
    "# money_on_my_mind.close()\n",
    "# print('\\n'*2)\n",
    "# print('count =',count1)"
   ]
  },
  {
   "cell_type": "code",
   "execution_count": null,
   "metadata": {
    "collapsed": true
   },
   "outputs": [],
   "source": []
  }
 ],
 "metadata": {
  "kernelspec": {
   "display_name": "Python 3",
   "language": "python",
   "name": "python3"
  },
  "language_info": {
   "codemirror_mode": {
    "name": "ipython",
    "version": 3
   },
   "file_extension": ".py",
   "mimetype": "text/x-python",
   "name": "python",
   "nbconvert_exporter": "python",
   "pygments_lexer": "ipython3",
   "version": "3.7.3"
  }
 },
 "nbformat": 4,
 "nbformat_minor": 2
}
