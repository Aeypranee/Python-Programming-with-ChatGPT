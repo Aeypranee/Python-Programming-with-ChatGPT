{
 "cells": [
  {
   "cell_type": "markdown",
   "metadata": {},
   "source": [
    "# 1. Attribute"
   ]
  },
  {
   "cell_type": "code",
   "execution_count": 1,
   "metadata": {},
   "outputs": [],
   "source": [
    "class Warrior:\n",
    "    def __init__(self, HP, ATK, DEF):\n",
    "        self.HP = HP\n",
    "        self.ATK = ATK\n",
    "        self.DEF = DEF"
   ]
  },
  {
   "cell_type": "code",
   "execution_count": 2,
   "metadata": {},
   "outputs": [],
   "source": [
    "warrior1 = Warrior(100, 45, 25)"
   ]
  },
  {
   "cell_type": "code",
   "execution_count": 3,
   "metadata": {},
   "outputs": [
    {
     "name": "stdout",
     "output_type": "stream",
     "text": [
      "warrior1's HP = 100\n",
      "warrior1's ATK = 45\n",
      "warrior1's DEF = 25\n"
     ]
    }
   ],
   "source": [
    "print(\"warrior1's HP =\", warrior1.HP)\n",
    "print(\"warrior1's ATK =\", warrior1.ATK)\n",
    "print(\"warrior1's DEF =\", warrior1.DEF)"
   ]
  },
  {
   "cell_type": "code",
   "execution_count": 4,
   "metadata": {},
   "outputs": [],
   "source": [
    "warrior2 = Warrior(100, 35, 30)"
   ]
  },
  {
   "cell_type": "code",
   "execution_count": 5,
   "metadata": {
    "scrolled": true
   },
   "outputs": [
    {
     "name": "stdout",
     "output_type": "stream",
     "text": [
      "warrior2's HP = 100\n",
      "warrior2's HP = 35\n",
      "warrior2's HP = 30\n"
     ]
    }
   ],
   "source": [
    "print(\"warrior2's HP =\", warrior2.HP)\n",
    "print(\"warrior2's HP =\", warrior2.ATK)\n",
    "print(\"warrior2's HP =\", warrior2.DEF)"
   ]
  },
  {
   "cell_type": "code",
   "execution_count": 6,
   "metadata": {},
   "outputs": [],
   "source": [
    "class Car:\n",
    "    def __init__(self, brand, model, color):\n",
    "        self.brand = brand\n",
    "        self.model = model\n",
    "        self.color = color"
   ]
  },
  {
   "cell_type": "code",
   "execution_count": 7,
   "metadata": {},
   "outputs": [],
   "source": [
    "car1 = Car('Toyota', 'Camry', 'Black')"
   ]
  },
  {
   "cell_type": "code",
   "execution_count": 8,
   "metadata": {},
   "outputs": [
    {
     "name": "stdout",
     "output_type": "stream",
     "text": [
      "car1's brand = Toyota\n",
      "car1's model = Camry\n",
      "car1's color = Black\n"
     ]
    }
   ],
   "source": [
    "print(\"car1's brand =\", car1.brand)\n",
    "print(\"car1's model =\", car1.model)\n",
    "print(\"car1's color =\", car1.color)"
   ]
  },
  {
   "cell_type": "code",
   "execution_count": 9,
   "metadata": {},
   "outputs": [],
   "source": [
    "car2 = Car('Honda', 'Civic', 'White')"
   ]
  },
  {
   "cell_type": "code",
   "execution_count": 10,
   "metadata": {},
   "outputs": [
    {
     "name": "stdout",
     "output_type": "stream",
     "text": [
      "car2's brand = Honda\n",
      "car2's model = Civic\n",
      "car2's color = White\n"
     ]
    }
   ],
   "source": [
    "print(\"car2's brand =\", car2.brand)\n",
    "print(\"car2's model =\", car2.model)\n",
    "print(\"car2's color =\", car2.color)"
   ]
  },
  {
   "cell_type": "markdown",
   "metadata": {},
   "source": [
    "# 2. Method"
   ]
  },
  {
   "cell_type": "code",
   "execution_count": 11,
   "metadata": {},
   "outputs": [],
   "source": [
    "class Warrior:\n",
    "    def __init__(self, HP, ATK, DEF):\n",
    "        self.HP = HP\n",
    "        self.ATK = ATK\n",
    "        self.DEF = DEF\n",
    "        \n",
    "    def training(self):\n",
    "        self.HP = self.HP + 5\n",
    "        self.ATK = self.ATK + 10\n",
    "        self.DEF = self.DEF + 5"
   ]
  },
  {
   "cell_type": "code",
   "execution_count": 12,
   "metadata": {},
   "outputs": [
    {
     "name": "stdout",
     "output_type": "stream",
     "text": [
      "HP = 100, ATK = 45, DEF = 25\n",
      "HP = 105, ATK = 55, DEF = 30\n"
     ]
    }
   ],
   "source": [
    "warrior1 = Warrior(100, 45, 25)\n",
    "print('HP = %d, ATK = %d, DEF = %d' %(warrior1.HP, warrior1.ATK, warrior1.DEF))\n",
    "warrior1.training()\n",
    "print('HP = %d, ATK = %d, DEF = %d' %(warrior1.HP, warrior1.ATK, warrior1.DEF))"
   ]
  },
  {
   "cell_type": "code",
   "execution_count": 13,
   "metadata": {},
   "outputs": [],
   "source": [
    "class Car:\n",
    "    def __init__(self, brand, model, color):\n",
    "        self.brand = brand\n",
    "        self.model = model\n",
    "        self.color = color\n",
    "        \n",
    "    def set_color(self, color):\n",
    "        self.color = color"
   ]
  },
  {
   "cell_type": "code",
   "execution_count": 14,
   "metadata": {},
   "outputs": [
    {
     "name": "stdout",
     "output_type": "stream",
     "text": [
      "old color = Black\n",
      "new color = Red\n"
     ]
    }
   ],
   "source": [
    "car1 = Car('Toyota', 'Camry', 'Black')\n",
    "print('old color = %s' %car1.color)\n",
    "car1.set_color('Red')\n",
    "print('new color = %s' %car1.color)"
   ]
  },
  {
   "cell_type": "code",
   "execution_count": null,
   "metadata": {},
   "outputs": [],
   "source": []
  }
 ],
 "metadata": {
  "kernelspec": {
   "display_name": "Python 3",
   "language": "python",
   "name": "python3"
  },
  "language_info": {
   "codemirror_mode": {
    "name": "ipython",
    "version": 3
   },
   "file_extension": ".py",
   "mimetype": "text/x-python",
   "name": "python",
   "nbconvert_exporter": "python",
   "pygments_lexer": "ipython3",
   "version": "3.7.3"
  }
 },
 "nbformat": 4,
 "nbformat_minor": 2
}
