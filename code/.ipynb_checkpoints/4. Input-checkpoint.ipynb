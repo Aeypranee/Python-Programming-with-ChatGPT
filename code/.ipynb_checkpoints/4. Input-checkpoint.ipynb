{
 "cells": [
  {
   "cell_type": "code",
   "execution_count": 1,
   "id": "c7f9be80",
   "metadata": {},
   "outputs": [
    {
     "name": "stdout",
     "output_type": "stream",
     "text": [
      "Please input your name : Krin\n",
      "your name is Krin.\n"
     ]
    }
   ],
   "source": [
    "name = input('Please input your name : ')\n",
    "print(f'your name is {name}.')"
   ]
  },
  {
   "cell_type": "code",
   "execution_count": 2,
   "id": "8379a36d",
   "metadata": {},
   "outputs": [
    {
     "name": "stdout",
     "output_type": "stream",
     "text": [
      "Please input your age : 18\n",
      "you are 18 years old.\n"
     ]
    }
   ],
   "source": [
    "age = int(input(('Please input your age : ')))\n",
    "print(f'you are {age} years old.')"
   ]
  },
  {
   "cell_type": "code",
   "execution_count": 3,
   "id": "020e1a31",
   "metadata": {},
   "outputs": [
    {
     "name": "stdout",
     "output_type": "stream",
     "text": [
      "Please input your height (meters) : 1.8\n",
      "you are 1.8 meters tall.\n"
     ]
    }
   ],
   "source": [
    "height = float(input('Please input your height (meters) : '))\n",
    "print(f'you are {height} meters tall.')"
   ]
  },
  {
   "cell_type": "code",
   "execution_count": null,
   "id": "8876650d",
   "metadata": {},
   "outputs": [],
   "source": []
  },
  {
   "cell_type": "code",
   "execution_count": null,
   "id": "da164f6c",
   "metadata": {},
   "outputs": [],
   "source": []
  }
 ],
 "metadata": {
  "kernelspec": {
   "display_name": "Python 3",
   "language": "python",
   "name": "python3"
  },
  "language_info": {
   "codemirror_mode": {
    "name": "ipython",
    "version": 3
   },
   "file_extension": ".py",
   "mimetype": "text/x-python",
   "name": "python",
   "nbconvert_exporter": "python",
   "pygments_lexer": "ipython3",
   "version": "3.8.8"
  }
 },
 "nbformat": 4,
 "nbformat_minor": 5
}
