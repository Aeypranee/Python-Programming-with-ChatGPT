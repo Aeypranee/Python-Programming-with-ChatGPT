{
 "cells": [
  {
   "cell_type": "markdown",
   "metadata": {},
   "source": [
    "# 1. If"
   ]
  },
  {
   "cell_type": "code",
   "execution_count": 1,
   "metadata": {},
   "outputs": [
    {
     "name": "stdout",
     "output_type": "stream",
     "text": [
      "Please insert your name: John\n",
      "\n",
      "Hi John\n",
      "Nice to meet you\n"
     ]
    }
   ],
   "source": [
    "name = input('Please insert your name: ')\n",
    "print()\n",
    "if name == 'John':\n",
    "    print('Hi John')\n",
    "print('Nice to meet you')"
   ]
  },
  {
   "cell_type": "code",
   "execution_count": 2,
   "metadata": {},
   "outputs": [
    {
     "name": "stdout",
     "output_type": "stream",
     "text": [
      "Please insert your name: Jane\n",
      "\n",
      "Nice to meet you\n"
     ]
    }
   ],
   "source": [
    "name = input('Please insert your name: ')\n",
    "print()\n",
    "if name == 'John':\n",
    "    print('Hi John')\n",
    "print('Nice to meet you')"
   ]
  },
  {
   "cell_type": "markdown",
   "metadata": {},
   "source": [
    "# 2. If-Else"
   ]
  },
  {
   "cell_type": "code",
   "execution_count": 3,
   "metadata": {},
   "outputs": [
    {
     "name": "stdout",
     "output_type": "stream",
     "text": [
      "Please insert score: 50\n",
      "Pass\n"
     ]
    }
   ],
   "source": [
    "score = int(input('Please insert score: '))\n",
    "if score >= 50:\n",
    "    print('Pass')\n",
    "else:\n",
    "    print('Fail')"
   ]
  },
  {
   "cell_type": "code",
   "execution_count": 4,
   "metadata": {},
   "outputs": [
    {
     "name": "stdout",
     "output_type": "stream",
     "text": [
      "Please insert score: 49\n",
      "Fail\n"
     ]
    }
   ],
   "source": [
    "score = int(input('Please insert score: '))\n",
    "if score >= 50:\n",
    "    print('Pass')\n",
    "else:\n",
    "    print('Fail')"
   ]
  },
  {
   "cell_type": "markdown",
   "metadata": {},
   "source": [
    "# 3. If-Elif"
   ]
  },
  {
   "cell_type": "code",
   "execution_count": 5,
   "metadata": {},
   "outputs": [
    {
     "name": "stdout",
     "output_type": "stream",
     "text": [
      "Please insert your name: Alan Turing\n",
      "\n",
      "Oh God !\n",
      "Glad to see you\n"
     ]
    }
   ],
   "source": [
    "name = input('Please insert your name: ')\n",
    "print()\n",
    "if name == 'Alan Turing':\n",
    "    print('Oh God !')\n",
    "elif name == 'Isac Newton':\n",
    "    print('OMG !')\n",
    "print('Glad to see you')"
   ]
  },
  {
   "cell_type": "code",
   "execution_count": 6,
   "metadata": {},
   "outputs": [
    {
     "name": "stdout",
     "output_type": "stream",
     "text": [
      "Please insert your name: Isac Newton\n",
      "\n",
      "OMG !\n",
      "Glad to see you\n"
     ]
    }
   ],
   "source": [
    "name = input('Please insert your name: ')\n",
    "print()\n",
    "if name == 'Alan Turing':\n",
    "    print('Oh God !')\n",
    "elif name == 'Isac Newton':\n",
    "    print('OMG !')\n",
    "print('Glad to see you')"
   ]
  },
  {
   "cell_type": "code",
   "execution_count": 7,
   "metadata": {},
   "outputs": [
    {
     "name": "stdout",
     "output_type": "stream",
     "text": [
      "Please insert your name: Yoda\n",
      "\n",
      "Glad to see you\n"
     ]
    }
   ],
   "source": [
    "name = input('Please insert your name: ')\n",
    "print()\n",
    "if name == 'Alan Turing':\n",
    "    print('Oh God !')\n",
    "elif name == 'Isac Newton':\n",
    "    print('OMG !')\n",
    "print('Glad to see you')"
   ]
  },
  {
   "cell_type": "markdown",
   "metadata": {},
   "source": [
    "# 4. If-Elif-Else"
   ]
  },
  {
   "cell_type": "code",
   "execution_count": 8,
   "metadata": {},
   "outputs": [
    {
     "name": "stdout",
     "output_type": "stream",
     "text": [
      "Please insert your name: Gift\n",
      "\n",
      "I miss you\n"
     ]
    }
   ],
   "source": [
    "name = input('Please insert your name: ')\n",
    "print()\n",
    "if name == 'Gift':\n",
    "    print('I miss you')\n",
    "elif name == 'Cherry':\n",
    "    print('I love you')\n",
    "elif name == 'Wine':\n",
    "    print('I need you')\n",
    "else:\n",
    "    print('Leave me alone')"
   ]
  },
  {
   "cell_type": "code",
   "execution_count": 9,
   "metadata": {},
   "outputs": [
    {
     "name": "stdout",
     "output_type": "stream",
     "text": [
      "Please insert your name: Cherry\n",
      "\n",
      "I love you\n"
     ]
    }
   ],
   "source": [
    "name = input('Please insert your name: ')\n",
    "print()\n",
    "if name == 'Gift':\n",
    "    print('I miss you')\n",
    "elif name == 'Cherry':\n",
    "    print('I love you')\n",
    "elif name == 'Wine':\n",
    "    print('I need you')\n",
    "else:\n",
    "    print('Leave me alone')"
   ]
  },
  {
   "cell_type": "code",
   "execution_count": 10,
   "metadata": {},
   "outputs": [
    {
     "name": "stdout",
     "output_type": "stream",
     "text": [
      "Please insert your name: Wine\n",
      "\n",
      "I need you\n"
     ]
    }
   ],
   "source": [
    "name = input('Please insert your name: ')\n",
    "print()\n",
    "if name == 'Gift':\n",
    "    print('I miss you')\n",
    "elif name == 'Cherry':\n",
    "    print('I love you')\n",
    "elif name == 'Wine':\n",
    "    print('I need you')\n",
    "else:\n",
    "    print('Leave me alone')"
   ]
  },
  {
   "cell_type": "code",
   "execution_count": 11,
   "metadata": {},
   "outputs": [
    {
     "name": "stdout",
     "output_type": "stream",
     "text": [
      "Please insert your name: Longan\n",
      "\n",
      "Leave me alone\n"
     ]
    }
   ],
   "source": [
    "name = input('Please insert your name: ')\n",
    "print()\n",
    "if name == 'Gift':\n",
    "    print('I miss you')\n",
    "elif name == 'Cherry':\n",
    "    print('I love you')\n",
    "elif name == 'Wine':\n",
    "    print('I need you')\n",
    "else:\n",
    "    print('Leave me alone')"
   ]
  },
  {
   "cell_type": "code",
   "execution_count": null,
   "metadata": {},
   "outputs": [],
   "source": []
  }
 ],
 "metadata": {
  "kernelspec": {
   "display_name": "Python 3",
   "language": "python",
   "name": "python3"
  },
  "language_info": {
   "codemirror_mode": {
    "name": "ipython",
    "version": 3
   },
   "file_extension": ".py",
   "mimetype": "text/x-python",
   "name": "python",
   "nbconvert_exporter": "python",
   "pygments_lexer": "ipython3",
   "version": "3.7.3"
  }
 },
 "nbformat": 4,
 "nbformat_minor": 2
}
