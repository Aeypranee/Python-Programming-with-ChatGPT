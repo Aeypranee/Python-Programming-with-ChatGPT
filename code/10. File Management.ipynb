{
 "cells": [
  {
   "cell_type": "markdown",
   "id": "d2a6a256",
   "metadata": {},
   "source": [
    "# 1. txt"
   ]
  },
  {
   "cell_type": "markdown",
   "id": "570a7618",
   "metadata": {},
   "source": [
    "## 1.1 write (w)"
   ]
  },
  {
   "cell_type": "code",
   "execution_count": 1,
   "id": "33ade009",
   "metadata": {},
   "outputs": [],
   "source": [
    "file = open('file.txt', 'w', encoding='utf8')\n",
    "file.write('hello1')\n",
    "file.write('hello2')\n",
    "file.write('hello3')\n",
    "file.close()"
   ]
  },
  {
   "cell_type": "code",
   "execution_count": 2,
   "id": "236dc569",
   "metadata": {},
   "outputs": [],
   "source": [
    "file2 = open('file2.txt', 'w', encoding='utf8')\n",
    "file2.write('hello1' + '\\n')\n",
    "file2.write('hello2' + '\\n')\n",
    "file2.write('hello3' + '\\n')\n",
    "file2.close()"
   ]
  },
  {
   "cell_type": "code",
   "execution_count": 3,
   "id": "71715efc",
   "metadata": {},
   "outputs": [],
   "source": [
    "file2 = open('file2.txt', 'w', encoding='utf8')\n",
    "file2.write('hello1\\n')\n",
    "file2.write('hello2\\n')\n",
    "file2.write('hello3\\n')\n",
    "file2.close()"
   ]
  },
  {
   "cell_type": "code",
   "execution_count": 4,
   "id": "2fbe51a1",
   "metadata": {},
   "outputs": [
    {
     "ename": "TypeError",
     "evalue": "write() argument must be str, not int",
     "output_type": "error",
     "traceback": [
      "\u001b[0;31m---------------------------------------------------------------------------\u001b[0m",
      "\u001b[0;31mTypeError\u001b[0m                                 Traceback (most recent call last)",
      "\u001b[0;32m<ipython-input-4-ac4ba5d3ad7e>\u001b[0m in \u001b[0;36m<module>\u001b[0;34m\u001b[0m\n\u001b[1;32m      1\u001b[0m \u001b[0mfile3\u001b[0m \u001b[0;34m=\u001b[0m \u001b[0mopen\u001b[0m\u001b[0;34m(\u001b[0m\u001b[0;34m'file3.txt'\u001b[0m\u001b[0;34m,\u001b[0m \u001b[0;34m'w'\u001b[0m\u001b[0;34m,\u001b[0m \u001b[0mencoding\u001b[0m\u001b[0;34m=\u001b[0m\u001b[0;34m'utf8'\u001b[0m\u001b[0;34m)\u001b[0m\u001b[0;34m\u001b[0m\u001b[0;34m\u001b[0m\u001b[0m\n\u001b[0;32m----> 2\u001b[0;31m \u001b[0mfile3\u001b[0m\u001b[0;34m.\u001b[0m\u001b[0mwrite\u001b[0m\u001b[0;34m(\u001b[0m\u001b[0;36m1\u001b[0m\u001b[0;34m)\u001b[0m\u001b[0;34m\u001b[0m\u001b[0;34m\u001b[0m\u001b[0m\n\u001b[0m\u001b[1;32m      3\u001b[0m \u001b[0mfile3\u001b[0m\u001b[0;34m.\u001b[0m\u001b[0mclose\u001b[0m\u001b[0;34m(\u001b[0m\u001b[0;34m)\u001b[0m\u001b[0;34m\u001b[0m\u001b[0;34m\u001b[0m\u001b[0m\n",
      "\u001b[0;31mTypeError\u001b[0m: write() argument must be str, not int"
     ]
    }
   ],
   "source": [
    "file3 = open('file3.txt', 'w', encoding='utf8')\n",
    "file3.write(1)\n",
    "file3.close()"
   ]
  },
  {
   "cell_type": "code",
   "execution_count": 5,
   "id": "407c74f6",
   "metadata": {},
   "outputs": [],
   "source": [
    "file3 = open('file3.txt', 'w', encoding='utf8')\n",
    "file3.write('1')\n",
    "file3.close()"
   ]
  },
  {
   "cell_type": "code",
   "execution_count": 6,
   "id": "b95dd534",
   "metadata": {},
   "outputs": [],
   "source": [
    "file4 = open('file4.txt', 'w', encoding='utf8')\n",
    "file4.write('1')\n",
    "file4.write('2')\n",
    "file4.write('3')\n",
    "file4.close()"
   ]
  },
  {
   "cell_type": "code",
   "execution_count": 7,
   "id": "10c17cba",
   "metadata": {},
   "outputs": [],
   "source": [
    "file5 = open('file5.txt', 'w', encoding='utf8')\n",
    "file5.write('1' + '\\n')\n",
    "file5.write('2' + '\\n')\n",
    "file5.write('3' + '\\n')\n",
    "file5.close()"
   ]
  },
  {
   "cell_type": "code",
   "execution_count": 8,
   "id": "d6e956c2",
   "metadata": {},
   "outputs": [],
   "source": [
    "file5 = open('file5.txt', 'w', encoding='utf8')\n",
    "file5.write('1\\n')\n",
    "file5.write('2\\n')\n",
    "file5.write('3\\n')\n",
    "file5.close()"
   ]
  },
  {
   "cell_type": "markdown",
   "id": "7cc526b9",
   "metadata": {},
   "source": [
    "## 1.2 read (r)"
   ]
  },
  {
   "cell_type": "code",
   "execution_count": 9,
   "id": "e44d637f",
   "metadata": {},
   "outputs": [
    {
     "name": "stdout",
     "output_type": "stream",
     "text": [
      "hello1\n",
      "\n",
      "hello2\n",
      "\n",
      "hello3\n",
      "\n"
     ]
    }
   ],
   "source": [
    "file2 = open('file2.txt', 'r', encoding='utf8')\n",
    "for line in file2:\n",
    "    print(line)"
   ]
  },
  {
   "cell_type": "code",
   "execution_count": 10,
   "id": "2fc309e9",
   "metadata": {},
   "outputs": [
    {
     "name": "stdout",
     "output_type": "stream",
     "text": [
      "hello1\n",
      "hello2\n",
      "hello3\n"
     ]
    }
   ],
   "source": [
    "file2 = open('file2.txt', 'r', encoding='utf8')\n",
    "for line in file2:\n",
    "    print(line[:-1])"
   ]
  },
  {
   "cell_type": "markdown",
   "id": "8bda6367",
   "metadata": {},
   "source": [
    "## 1.3 append (a)"
   ]
  },
  {
   "cell_type": "code",
   "execution_count": 11,
   "id": "c852b3a1",
   "metadata": {},
   "outputs": [],
   "source": [
    "file5 = open('file5.txt', 'a', encoding='utf8')\n",
    "file5.write('4' + '\\n')\n",
    "file5.write('5' + '\\n')\n",
    "file5.write('6' + '\\n')\n",
    "file5.close()"
   ]
  },
  {
   "cell_type": "markdown",
   "id": "845829d6",
   "metadata": {},
   "source": [
    "# 2. path"
   ]
  },
  {
   "cell_type": "markdown",
   "id": "16d93843",
   "metadata": {},
   "source": [
    "ดูได้ที่ file .ipynb ใน folder \"all_lyrics\""
   ]
  },
  {
   "cell_type": "code",
   "execution_count": null,
   "id": "ca9f2321",
   "metadata": {},
   "outputs": [],
   "source": []
  }
 ],
 "metadata": {
  "kernelspec": {
   "display_name": "Python 3",
   "language": "python",
   "name": "python3"
  },
  "language_info": {
   "codemirror_mode": {
    "name": "ipython",
    "version": 3
   },
   "file_extension": ".py",
   "mimetype": "text/x-python",
   "name": "python",
   "nbconvert_exporter": "python",
   "pygments_lexer": "ipython3",
   "version": "3.8.8"
  }
 },
 "nbformat": 4,
 "nbformat_minor": 5
}
