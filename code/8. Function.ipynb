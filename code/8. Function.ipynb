{
 "cells": [
  {
   "cell_type": "markdown",
   "metadata": {},
   "source": [
    "# 1. with Parameters"
   ]
  },
  {
   "cell_type": "code",
   "execution_count": 1,
   "metadata": {},
   "outputs": [],
   "source": [
    "def sum_list(listA):\n",
    "    sumx = 0\n",
    "    for i in range(len(listA)):\n",
    "        sumx = sumx + listA[i]\n",
    "    return sumx"
   ]
  },
  {
   "cell_type": "code",
   "execution_count": 2,
   "metadata": {},
   "outputs": [],
   "source": [
    "list1 = [1, 2, 3, 4, 5]\n",
    "list2 = [6, 7, 8, 9, 10]"
   ]
  },
  {
   "cell_type": "code",
   "execution_count": 3,
   "metadata": {},
   "outputs": [
    {
     "data": {
      "text/plain": [
       "15"
      ]
     },
     "execution_count": 3,
     "metadata": {},
     "output_type": "execute_result"
    }
   ],
   "source": [
    "sum_list(list1)"
   ]
  },
  {
   "cell_type": "code",
   "execution_count": 4,
   "metadata": {},
   "outputs": [
    {
     "data": {
      "text/plain": [
       "40"
      ]
     },
     "execution_count": 4,
     "metadata": {},
     "output_type": "execute_result"
    }
   ],
   "source": [
    "sum_list(list2)"
   ]
  },
  {
   "cell_type": "code",
   "execution_count": 5,
   "metadata": {},
   "outputs": [],
   "source": [
    "def plus(a, b):\n",
    "    c = a + b\n",
    "    return c"
   ]
  },
  {
   "cell_type": "code",
   "execution_count": 6,
   "metadata": {},
   "outputs": [
    {
     "data": {
      "text/plain": [
       "4"
      ]
     },
     "execution_count": 6,
     "metadata": {},
     "output_type": "execute_result"
    }
   ],
   "source": [
    "plus(1, 3)"
   ]
  },
  {
   "cell_type": "code",
   "execution_count": 7,
   "metadata": {},
   "outputs": [],
   "source": [
    "def minus(a, b):\n",
    "    d = a - b\n",
    "    return d"
   ]
  },
  {
   "cell_type": "code",
   "execution_count": 8,
   "metadata": {},
   "outputs": [
    {
     "data": {
      "text/plain": [
       "-2"
      ]
     },
     "execution_count": 8,
     "metadata": {},
     "output_type": "execute_result"
    }
   ],
   "source": [
    "minus(1, 3)"
   ]
  },
  {
   "cell_type": "code",
   "execution_count": 9,
   "metadata": {},
   "outputs": [],
   "source": [
    "def plus_minus(a, b, c):\n",
    "    c = a + b + c\n",
    "    d = a - b - c\n",
    "    return c, d"
   ]
  },
  {
   "cell_type": "code",
   "execution_count": 10,
   "metadata": {},
   "outputs": [],
   "source": [
    "result1, result2 = plus_minus(1, 3, 5)"
   ]
  },
  {
   "cell_type": "code",
   "execution_count": 11,
   "metadata": {},
   "outputs": [
    {
     "data": {
      "text/plain": [
       "9"
      ]
     },
     "execution_count": 11,
     "metadata": {},
     "output_type": "execute_result"
    }
   ],
   "source": [
    "result1"
   ]
  },
  {
   "cell_type": "code",
   "execution_count": 12,
   "metadata": {},
   "outputs": [
    {
     "data": {
      "text/plain": [
       "-11"
      ]
     },
     "execution_count": 12,
     "metadata": {},
     "output_type": "execute_result"
    }
   ],
   "source": [
    "result2"
   ]
  },
  {
   "cell_type": "markdown",
   "metadata": {},
   "source": [
    "# 2. without Parameters"
   ]
  },
  {
   "cell_type": "code",
   "execution_count": 13,
   "metadata": {},
   "outputs": [],
   "source": [
    "def tree():\n",
    "    print('''\n",
    "    ---1---\n",
    "    --121--\n",
    "    -12321-\n",
    "    1234321''')"
   ]
  },
  {
   "cell_type": "code",
   "execution_count": 14,
   "metadata": {},
   "outputs": [
    {
     "name": "stdout",
     "output_type": "stream",
     "text": [
      "\n",
      "    ---1---\n",
      "    --121--\n",
      "    -12321-\n",
      "    1234321\n"
     ]
    }
   ],
   "source": [
    "tree()"
   ]
  },
  {
   "cell_type": "code",
   "execution_count": 15,
   "metadata": {},
   "outputs": [],
   "source": [
    "def PYTHON():\n",
    "    print('''\n",
    "    --xxxxxx---xx-----xx--xxxxxxxx--xx----xx----xxxxxx----xx----xx--\n",
    "    --xx---xx--xx----xx------xx-----xx----xx---xx----xx---xxx---xx--\n",
    "    --xx---xx---xx--xx-------xx-----xx----xx--xx------xx--xxxx--xx--\n",
    "    --xxxxxx-----xxxx--------xx-----xxxxxxxx--xx------xx--xx-xx-xx--\n",
    "    --xx----------xx---------xx-----xx----xx--xx------xx--xx--xxxx--\n",
    "    --xx----------xx---------xx-----xx----xx---xx----xx---xx---xxx--\n",
    "    --xx----------xx---------xx-----xx----xx----xxxxxx----xx----xx--''')"
   ]
  },
  {
   "cell_type": "code",
   "execution_count": 16,
   "metadata": {},
   "outputs": [
    {
     "name": "stdout",
     "output_type": "stream",
     "text": [
      "\n",
      "    --xxxxxx---xx-----xx--xxxxxxxx--xx----xx----xxxxxx----xx----xx--\n",
      "    --xx---xx--xx----xx------xx-----xx----xx---xx----xx---xxx---xx--\n",
      "    --xx---xx---xx--xx-------xx-----xx----xx--xx------xx--xxxx--xx--\n",
      "    --xxxxxx-----xxxx--------xx-----xxxxxxxx--xx------xx--xx-xx-xx--\n",
      "    --xx----------xx---------xx-----xx----xx--xx------xx--xx--xxxx--\n",
      "    --xx----------xx---------xx-----xx----xx---xx----xx---xx---xxx--\n",
      "    --xx----------xx---------xx-----xx----xx----xxxxxx----xx----xx--\n"
     ]
    }
   ],
   "source": [
    "PYTHON()"
   ]
  },
  {
   "cell_type": "code",
   "execution_count": null,
   "metadata": {},
   "outputs": [],
   "source": []
  }
 ],
 "metadata": {
  "kernelspec": {
   "display_name": "Python 3",
   "language": "python",
   "name": "python3"
  },
  "language_info": {
   "codemirror_mode": {
    "name": "ipython",
    "version": 3
   },
   "file_extension": ".py",
   "mimetype": "text/x-python",
   "name": "python",
   "nbconvert_exporter": "python",
   "pygments_lexer": "ipython3",
   "version": "3.7.3"
  }
 },
 "nbformat": 4,
 "nbformat_minor": 2
}
